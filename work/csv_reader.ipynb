{
 "cells": [
  {
   "cell_type": "code",
   "execution_count": 3,
   "metadata": {},
   "outputs": [
    {
     "data": {
      "text/plain": [
       "Row(dominio='eletrobras.gov.br', documento='000.001.180/0002-07', nome='CENTRAIS ELETRICAS BRASILEIRAS SA', uf='RJ', cidade='Rio de Janeiro', cep='20071-003', data_cadastro='1996-01-09 12:00:00', ultima_atualizacao='2014-07-02 19:56:36', ticket=5023)"
      ]
     },
     "execution_count": 3,
     "metadata": {},
     "output_type": "execute_result"
    }
   ],
   "source": [
    "import pyspark\n",
    "import pandas as pd\n",
    "\n",
    "sc = pyspark.SparkContext.getOrCreate()  # if using locally\n",
    "sql_sc = pyspark.sql.SQLContext(sc)\n",
    "\n",
    "pandas_df = pd.read_csv('Dominios_GovBR_basico.csv', ';', encoding = \"ISO-8859-1\")  # assuming the file contains a header\n",
    "# pandas_df = pd.read_csv('file.csv', names = ['column 1','column 2']) # if no header\n",
    "s_df = sql_sc.createDataFrame(pandas_df)\n",
    "s_df.rdd.map(x )"
   ]
  },
  {
   "cell_type": "code",
   "execution_count": null,
   "metadata": {},
   "outputs": [],
   "source": []
  },
  {
   "cell_type": "code",
   "execution_count": null,
   "metadata": {},
   "outputs": [],
   "source": []
  }
 ],
 "metadata": {
  "kernelspec": {
   "display_name": "Python 3",
   "language": "python",
   "name": "python3"
  },
  "language_info": {
   "codemirror_mode": {
    "name": "ipython",
    "version": 3
   },
   "file_extension": ".py",
   "mimetype": "text/x-python",
   "name": "python",
   "nbconvert_exporter": "python",
   "pygments_lexer": "ipython3",
   "version": "3.6.7"
  }
 },
 "nbformat": 4,
 "nbformat_minor": 2
}
