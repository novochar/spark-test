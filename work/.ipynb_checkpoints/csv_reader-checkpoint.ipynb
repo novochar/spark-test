{
 "cells": [
  {
   "cell_type": "code",
   "execution_count": 1,
   "metadata": {},
   "outputs": [
    {
     "data": {
      "text/plain": [
       "1603"
      ]
     },
     "execution_count": 1,
     "metadata": {},
     "output_type": "execute_result"
    }
   ],
   "source": [
    "import pyspark\n",
    "import pandas as pd\n",
    "\n",
    "sc = pyspark.SparkContext.getOrCreate()  # if using locally\n",
    "sql_sc = pyspark.sql.SQLContext(sc)\n",
    "\n",
    "pandas_df = pd.read_csv('Dominios_GovBR_basico.csv', ';', encoding = \"ISO-8859-1\")  # assuming the file contains a header\n",
    "# pandas_df = pd.read_csv('file.csv', names = ['column 1','column 2']) # if no header\n",
    "s_df = sql_sc.createDataFrame(pandas_df)\n",
    "s_df.rdd.map(_('ultima_atualizacao')).countByValue()"
   ]
  },
  {
   "cell_type": "code",
   "execution_count": null,
   "metadata": {},
   "outputs": [],
   "source": []
  },
  {
   "cell_type": "code",
   "execution_count": null,
   "metadata": {},
   "outputs": [],
   "source": []
  }
 ],
 "metadata": {
  "kernelspec": {
   "display_name": "Python 3",
   "language": "python",
   "name": "python3"
  },
  "language_info": {
   "codemirror_mode": {
    "name": "ipython",
    "version": 3
   },
   "file_extension": ".py",
   "mimetype": "text/x-python",
   "name": "python",
   "nbconvert_exporter": "python",
   "pygments_lexer": "ipython3",
   "version": "3.6.7"
  }
 },
 "nbformat": 4,
 "nbformat_minor": 2
}
