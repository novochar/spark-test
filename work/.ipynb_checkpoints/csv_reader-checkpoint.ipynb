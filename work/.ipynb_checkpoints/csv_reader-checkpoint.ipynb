{
 "cells": [
  {
   "cell_type": "code",
   "execution_count": 1,
   "metadata": {},
   "outputs": [
    {
     "name": "stdout",
     "output_type": "stream",
     "text": [
      "+--------------------+-------------------+--------------------+---+--------------+---------+-------------------+-------------------+--------+\n",
      "|             dominio|          documento|                nome| uf|        cidade|      cep|      data_cadastro| ultima_atualizacao|  ticket|\n",
      "+--------------------+-------------------+--------------------+---+--------------+---------+-------------------+-------------------+--------+\n",
      "|   eletrobras.gov.br|000.001.180/0002-07|CENTRAIS ELETRICA...| RJ|Rio de Janeiro|20071-003|1996-01-09 12:00:00|2014-07-02 19:56:36|    5023|\n",
      "|premioconservacao...|000.001.180/0002-07|CENTRAIS ELETRICA...| RJ|Rio de Janeiro|20071-003|2009-03-24 20:07:14|2013-04-15 21:36:17| 5379045|\n",
      "|       procel.gov.br|000.001.180/0002-07|CENTRAIS ELETRICA...| RJ|Rio de Janeiro|20071-003|2000-11-06 18:41:03|2009-10-05 18:54:36|  453438|\n",
      "|      proinfa.gov.br|000.001.180/0002-07|CENTRAIS ELETRICA...| RJ|Rio de Janeiro|20071-003|2002-04-18 14:55:25|2013-04-15 21:36:41|  784297|\n",
      "|        reluz.gov.br|000.001.180/0002-07|CENTRAIS ELETRICA...| RJ|Rio de Janeiro|20071-003|2000-11-06 18:41:04|2009-10-05 18:35:49|  453442|\n",
      "|        bacen.gov.br|000.038.166/0001-05|Banco Central do ...| DF|      Brasília|70074-900|1996-11-26 11:00:00|2015-06-17 22:19:54|       0|\n",
      "| bancocentral.gov.br|000.038.166/0001-05|Banco Central do ...| DF|      Brasília|70074-900|1998-12-31 00:24:21|2015-06-17 22:20:15|  135008|\n",
      "|           bc.gov.br|000.038.166/0001-05|Banco Central do ...| DF|      Brasília|70074-900|1998-12-30 18:22:39|2015-06-17 22:20:33|  133801|\n",
      "|          bcb.gov.br|000.038.166/0001-05|Banco Central do ...| DF|      Brasília|70074-900|1996-01-24 12:00:00|2015-06-17 22:20:50|    5153|\n",
      "|cidadaniafinancei...|000.038.166/0001-05|Banco Central do ...| DF|      Brasília|70074-900|2015-03-31 16:27:25|2015-06-17 22:21:48|13971449|\n",
      "|     sisbacen.gov.br|000.038.166/0001-05|Banco Central do ...| DF|      Brasília|70074-900|1998-12-31 00:24:19|2016-05-18 21:19:24|  135007|\n",
      "|        selic.gov.br|000.038.166/0010-98|Banco Central do ...| RJ|Rio de Janeiro|20071-001|2010-07-28 12:18:08|2011-03-30 02:25:07| 7082360|\n",
      "|        dnocs.gov.br|000.043.711/0001-43|DEPARTAMENTO NACI...| CE|     Fortaleza|60035-111|1999-02-10 19:09:57|2018-01-29 13:52:58|  139185|\n",
      "|      dnocspb.gov.br|000.043.711/0008-10|Segundo Distrito ...| PB|   João Pessoa|58030-000|1999-06-14 16:47:03|2017-09-25 14:54:42|  165937|\n",
      "|         fhdf.gov.br|000.054.015/0001-32|Secretaria de Saú...| DF|      Brasília|70335-902|1996-01-01 12:00:00|2008-02-19 20:18:44|       0|\n",
      "|        funai.gov.br|000.059.311/0001-26|Fundação Nacional...| DF|      Brasília|70390-025|1998-02-10 13:07:35|2017-07-28 02:47:17|   83785|\n",
      "| museudoindio.gov.br|000.059.311/0002-07|Museu do Índio - ...| RJ|Rio de Janeiro|22270-070|2003-10-23 16:28:14|2018-11-19 21:00:01| 1373769|\n",
      "|    eletrosul.gov.br|000.073.957/0001-68|Eletrosul Centrai...| SC| Florianópolis|88040-901|1996-07-27 12:00:00|2014-12-29 18:59:18|   12785|\n",
      "|        bcdam.gov.br|000.091.652/0002-60|COMPANHIA DE PESQ...| RJ|Rio de Janeiro|22290-240|1999-03-22 18:29:36|2017-05-09 12:59:38|  145756|\n",
      "|         cprm.gov.br|000.091.652/0002-60|COMPANHIA DE PESQ...| RJ|Rio de Janeiro|22290-240|1996-02-16 12:00:00|2017-05-09 12:58:53|    5443|\n",
      "+--------------------+-------------------+--------------------+---+--------------+---------+-------------------+-------------------+--------+\n",
      "only showing top 20 rows\n",
      "\n"
     ]
    }
   ],
   "source": [
    "import pyspark\n",
    "\n",
    "sc = pyspark.SparkContext(appName='csv_reader')\n",
    "sql_sc = pyspark.sql.SQLContext(sc)\n",
    "s_df = sql_sc.read.csv('Dominios_GovBR_basico.csv', sep=';', header=True, encoding = \"ISO-8859-1\")\n",
    "s_df.show()"
   ]
  },
  {
   "cell_type": "code",
   "execution_count": 2,
   "metadata": {},
   "outputs": [
    {
     "ename": "NameError",
     "evalue": "name 'data_cadastro' is not defined",
     "output_type": "error",
     "traceback": [
      "\u001b[0;31m---------------------------------------------------------------------------\u001b[0m",
      "\u001b[0;31mNameError\u001b[0m                                 Traceback (most recent call last)",
      "\u001b[0;32m<ipython-input-2-b739f8434c0d>\u001b[0m in \u001b[0;36m<module>\u001b[0;34m\u001b[0m\n\u001b[0;32m----> 1\u001b[0;31m \u001b[0ms_df\u001b[0m\u001b[0;34m.\u001b[0m\u001b[0mgroupBy\u001b[0m\u001b[0;34m(\u001b[0m\u001b[0;34m'data_cadastro'\u001b[0m\u001b[0;34m)\u001b[0m\u001b[0;34m.\u001b[0m\u001b[0mcount\u001b[0m\u001b[0;34m(\u001b[0m\u001b[0;34m)\u001b[0m\u001b[0;34m.\u001b[0m\u001b[0morderBy\u001b[0m\u001b[0;34m(\u001b[0m\u001b[0;34m'count'\u001b[0m\u001b[0;34m,\u001b[0m \u001b[0mdata_cadastro\u001b[0m\u001b[0;34m,\u001b[0m \u001b[0mascending\u001b[0m\u001b[0;34m=\u001b[0m\u001b[0;32mFalse\u001b[0m\u001b[0;34m)\u001b[0m\u001b[0;34m.\u001b[0m\u001b[0mshow\u001b[0m\u001b[0;34m(\u001b[0m\u001b[0;34m)\u001b[0m\u001b[0;34m\u001b[0m\u001b[0;34m\u001b[0m\u001b[0m\n\u001b[0m",
      "\u001b[0;31mNameError\u001b[0m: name 'data_cadastro' is not defined"
     ]
    }
   ],
   "source": [
    "s_df.groupBy('data_cadastro').count().orderBy('count', 'data_cadastro', ascending=False).show()"
   ]
  },
  {
   "cell_type": "code",
   "execution_count": null,
   "metadata": {},
   "outputs": [],
   "source": []
  }
 ],
 "metadata": {
  "kernelspec": {
   "display_name": "Python 3",
   "language": "python",
   "name": "python3"
  },
  "language_info": {
   "codemirror_mode": {
    "name": "ipython",
    "version": 3
   },
   "file_extension": ".py",
   "mimetype": "text/x-python",
   "name": "python",
   "nbconvert_exporter": "python",
   "pygments_lexer": "ipython3",
   "version": "3.6.7"
  }
 },
 "nbformat": 4,
 "nbformat_minor": 2
}
